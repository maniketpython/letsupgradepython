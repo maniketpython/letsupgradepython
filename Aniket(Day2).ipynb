{
  "nbformat": 4,
  "nbformat_minor": 0,
  "metadata": {
    "colab": {
      "name": "Aniket(Day2).ipynb",
      "provenance": [],
      "collapsed_sections": [],
      "include_colab_link": true
    },
    "kernelspec": {
      "name": "python3",
      "display_name": "Python 3"
    }
  },
  "cells": [
    {
      "cell_type": "markdown",
      "metadata": {
        "id": "view-in-github",
        "colab_type": "text"
      },
      "source": [
        "<a href=\"https://colab.research.google.com/github/maniketpython/letsupgradepython/blob/master/Aniket(Day2).ipynb\" target=\"_parent\"><img src=\"https://colab.research.google.com/assets/colab-badge.svg\" alt=\"Open In Colab\"/></a>"
      ]
    },
    {
      "cell_type": "markdown",
      "metadata": {
        "id": "DyozjY21Kxwk",
        "colab_type": "text"
      },
      "source": [
        "Assignment 1. (Day2)"
      ]
    },
    {
      "cell_type": "markdown",
      "metadata": {
        "id": "YwUkfB14K2uS",
        "colab_type": "text"
      },
      "source": [
        "Q1.List and it's Default Functions"
      ]
    },
    {
      "cell_type": "code",
      "metadata": {
        "id": "S-dWnM0PLE2t",
        "colab_type": "code",
        "colab": {}
      },
      "source": [
        "lst=[\"Ankit\",\"Rishabh\",30,60,45.89]"
      ],
      "execution_count": null,
      "outputs": []
    },
    {
      "cell_type": "code",
      "metadata": {
        "id": "bdfWYXODLZr7",
        "colab_type": "code",
        "colab": {
          "base_uri": "https://localhost:8080/",
          "height": 34
        },
        "outputId": "9c2bc611-6909-4fa9-a39c-2e1e132a34b4"
      },
      "source": [
        "print (lst)"
      ],
      "execution_count": null,
      "outputs": [
        {
          "output_type": "stream",
          "text": [
            "['Ankit', 'Rishabh', 30, 60, 45.89]\n"
          ],
          "name": "stdout"
        }
      ]
    },
    {
      "cell_type": "markdown",
      "metadata": {
        "id": "xzEanOqFLgbR",
        "colab_type": "text"
      },
      "source": [
        "1].append() will add item at the end"
      ]
    },
    {
      "cell_type": "code",
      "metadata": {
        "id": "RC3KaEFqLnbT",
        "colab_type": "code",
        "colab": {}
      },
      "source": [
        "lst.append(1803027)"
      ],
      "execution_count": null,
      "outputs": []
    },
    {
      "cell_type": "code",
      "metadata": {
        "id": "dtWtZarPSrgB",
        "colab_type": "code",
        "colab": {
          "base_uri": "https://localhost:8080/",
          "height": 54
        },
        "outputId": "870fe129-f5c1-41ad-f97c-48d5584f9133"
      },
      "source": [
        "print(lst)"
      ],
      "execution_count": null,
      "outputs": [
        {
          "output_type": "stream",
          "text": [
            "['Ankit', 'Rishabh', 30, 60, 45.89, 1803027]\n"
          ],
          "name": "stdout"
        }
      ]
    },
    {
      "cell_type": "markdown",
      "metadata": {
        "id": "i7l9v_8XSwc1",
        "colab_type": "text"
      },
      "source": [
        "2].insert() To insert any item in the list"
      ]
    },
    {
      "cell_type": "code",
      "metadata": {
        "id": "UPSLZWJfS7cS",
        "colab_type": "code",
        "colab": {}
      },
      "source": [
        "lst.insert(1,500)"
      ],
      "execution_count": null,
      "outputs": []
    },
    {
      "cell_type": "code",
      "metadata": {
        "id": "18bm7vVOTA62",
        "colab_type": "code",
        "colab": {
          "base_uri": "https://localhost:8080/",
          "height": 54
        },
        "outputId": "51ba1c0f-fe32-4fda-c074-a64eb2a26c02"
      },
      "source": [
        "print(lst)"
      ],
      "execution_count": null,
      "outputs": [
        {
          "output_type": "stream",
          "text": [
            "['Ankit', 500, 'Rishabh', 30, 60, 45.89, 1803027]\n"
          ],
          "name": "stdout"
        }
      ]
    },
    {
      "cell_type": "markdown",
      "metadata": {
        "id": "IK2H4YKDTFqm",
        "colab_type": "text"
      },
      "source": [
        "3].pop() removes and return last value"
      ]
    },
    {
      "cell_type": "code",
      "metadata": {
        "id": "QDDSLAPtTU0H",
        "colab_type": "code",
        "colab": {
          "base_uri": "https://localhost:8080/",
          "height": 34
        },
        "outputId": "61ea9bec-200f-43d1-9b03-dce5bc6cabb4"
      },
      "source": [
        "lst.pop()"
      ],
      "execution_count": null,
      "outputs": [
        {
          "output_type": "execute_result",
          "data": {
            "text/plain": [
              "1803027"
            ]
          },
          "metadata": {
            "tags": []
          },
          "execution_count": 7
        }
      ]
    },
    {
      "cell_type": "markdown",
      "metadata": {
        "id": "DXBWEI0lTlei",
        "colab_type": "text"
      },
      "source": [
        "4].del() is used to delete items in the list"
      ]
    },
    {
      "cell_type": "code",
      "metadata": {
        "id": "IN_RbwmmTXbC",
        "colab_type": "code",
        "colab": {}
      },
      "source": [
        "del lst[2]"
      ],
      "execution_count": null,
      "outputs": []
    },
    {
      "cell_type": "code",
      "metadata": {
        "id": "Yo249i2DTy-N",
        "colab_type": "code",
        "colab": {
          "base_uri": "https://localhost:8080/",
          "height": 34
        },
        "outputId": "2c5fa994-27cf-4ced-9c48-1f8e62ee01da"
      },
      "source": [
        "print(lst)"
      ],
      "execution_count": null,
      "outputs": [
        {
          "output_type": "stream",
          "text": [
            "['Ankit', 500, 30, 60, 45.89]\n"
          ],
          "name": "stdout"
        }
      ]
    },
    {
      "cell_type": "markdown",
      "metadata": {
        "id": "7GpgnlMKT3Wn",
        "colab_type": "text"
      },
      "source": [
        "5].len() is used to get the length of the list"
      ]
    },
    {
      "cell_type": "code",
      "metadata": {
        "id": "oma1DKMpUGnF",
        "colab_type": "code",
        "colab": {
          "base_uri": "https://localhost:8080/",
          "height": 34
        },
        "outputId": "b44d5b9d-9c14-4039-faee-a341238346cd"
      },
      "source": [
        "len(lst)"
      ],
      "execution_count": null,
      "outputs": [
        {
          "output_type": "execute_result",
          "data": {
            "text/plain": [
              "5"
            ]
          },
          "metadata": {
            "tags": []
          },
          "execution_count": 10
        }
      ]
    },
    {
      "cell_type": "markdown",
      "metadata": {
        "id": "bAeXTMxoUTL4",
        "colab_type": "text"
      },
      "source": [
        "Q2. Dictonaries  and it's default functions"
      ]
    },
    {
      "cell_type": "code",
      "metadata": {
        "id": "qtDD1mdKXFEC",
        "colab_type": "code",
        "colab": {}
      },
      "source": [
        "dit={\"Name\":\"Ankit\",\"Age\":18,\"Number\":123456,\"Email id\":\"ankit123@gmail.com\"}"
      ],
      "execution_count": null,
      "outputs": []
    },
    {
      "cell_type": "code",
      "metadata": {
        "id": "zbl4dDY5X0WR",
        "colab_type": "code",
        "colab": {
          "base_uri": "https://localhost:8080/",
          "height": 54
        },
        "outputId": "25849b7d-4168-4d21-eb48-0761016bed8a"
      },
      "source": [
        "print(dit)"
      ],
      "execution_count": null,
      "outputs": [
        {
          "output_type": "stream",
          "text": [
            "{'Name': 'Ankit', 'Age': 18, 'Number': 123456, 'Email id': 'ankit123@gmail.com'}\n"
          ],
          "name": "stdout"
        }
      ]
    },
    {
      "cell_type": "markdown",
      "metadata": {
        "id": "KE0EJOc-XASA",
        "colab_type": "text"
      },
      "source": [
        " 1].get() Returns the value of the key"
      ]
    },
    {
      "cell_type": "code",
      "metadata": {
        "id": "ZwOOIwzGUbtv",
        "colab_type": "code",
        "colab": {
          "base_uri": "https://localhost:8080/",
          "height": 35
        },
        "outputId": "50663c25-f222-45a9-f233-ec66399513d5"
      },
      "source": [
        "dit.get(\"Name\")"
      ],
      "execution_count": null,
      "outputs": [
        {
          "output_type": "execute_result",
          "data": {
            "application/vnd.google.colaboratory.intrinsic+json": {
              "type": "string"
            },
            "text/plain": [
              "'Ankit'"
            ]
          },
          "metadata": {
            "tags": []
          },
          "execution_count": 15
        }
      ]
    },
    {
      "cell_type": "code",
      "metadata": {
        "id": "88NXNoDjX9Wh",
        "colab_type": "code",
        "colab": {
          "base_uri": "https://localhost:8080/",
          "height": 34
        },
        "outputId": "af65ea38-5213-4f16-abcb-396914b7d2b2"
      },
      "source": [
        "dit.get(\"Age\")"
      ],
      "execution_count": null,
      "outputs": [
        {
          "output_type": "execute_result",
          "data": {
            "text/plain": [
              "18"
            ]
          },
          "metadata": {
            "tags": []
          },
          "execution_count": 16
        }
      ]
    },
    {
      "cell_type": "markdown",
      "metadata": {
        "id": "rrL9r8y8YCOZ",
        "colab_type": "text"
      },
      "source": [
        "2].keys() Returns a new object of the dictionary's keys"
      ]
    },
    {
      "cell_type": "code",
      "metadata": {
        "id": "jj3AYUFMYY54",
        "colab_type": "code",
        "colab": {
          "base_uri": "https://localhost:8080/",
          "height": 54
        },
        "outputId": "a7276888-c2d0-4241-c698-444b7a46c91f"
      },
      "source": [
        "dit.keys()"
      ],
      "execution_count": null,
      "outputs": [
        {
          "output_type": "execute_result",
          "data": {
            "text/plain": [
              "dict_keys(['Name', 'Age', 'Number', 'Email id'])"
            ]
          },
          "metadata": {
            "tags": []
          },
          "execution_count": 17
        }
      ]
    },
    {
      "cell_type": "markdown",
      "metadata": {
        "id": "vOEfmJViYgmu",
        "colab_type": "text"
      },
      "source": [
        "3].items() Return a new object of the dictionary's items in (key, value) format"
      ]
    },
    {
      "cell_type": "code",
      "metadata": {
        "id": "2U5OaEO8Y2a7",
        "colab_type": "code",
        "colab": {
          "base_uri": "https://localhost:8080/",
          "height": 54
        },
        "outputId": "1924c3ae-0a8e-4dfe-f395-07bb5276fb15"
      },
      "source": [
        "dit.items()"
      ],
      "execution_count": null,
      "outputs": [
        {
          "output_type": "execute_result",
          "data": {
            "text/plain": [
              "dict_items([('Name', 'Ankit'), ('Age', 18), ('Number', 123456), ('Email id', 'ankit123@gmail.com')])"
            ]
          },
          "metadata": {
            "tags": []
          },
          "execution_count": 18
        }
      ]
    },
    {
      "cell_type": "markdown",
      "metadata": {
        "id": "6lyKvcdeY-7E",
        "colab_type": "text"
      },
      "source": [
        "4].update() will updates the dictionary from the elements of the another dictionary objects"
      ]
    },
    {
      "cell_type": "code",
      "metadata": {
        "id": "GJZ3ekj7ZJ2J",
        "colab_type": "code",
        "colab": {}
      },
      "source": [
        "dit1={\"Name\":\"Ankit Prajapati\"}"
      ],
      "execution_count": null,
      "outputs": []
    },
    {
      "cell_type": "code",
      "metadata": {
        "id": "jTHZTk1faNoI",
        "colab_type": "code",
        "colab": {}
      },
      "source": [
        "dit.update(dit1)"
      ],
      "execution_count": null,
      "outputs": []
    },
    {
      "cell_type": "code",
      "metadata": {
        "id": "raQqIcjOaSLs",
        "colab_type": "code",
        "colab": {
          "base_uri": "https://localhost:8080/",
          "height": 54
        },
        "outputId": "9cf6316a-1bfb-497e-cb9b-77026a88ef00"
      },
      "source": [
        "print(dit)"
      ],
      "execution_count": null,
      "outputs": [
        {
          "output_type": "stream",
          "text": [
            "{'Name': 'Ankit Prajapati', 'Age': 18, 'Number': 123456, 'Email id': 'ankit123@gmail.com'}\n"
          ],
          "name": "stdout"
        }
      ]
    },
    {
      "cell_type": "markdown",
      "metadata": {
        "id": "_lTUIGlwaXAX",
        "colab_type": "text"
      },
      "source": [
        "5].clear() Removes all items from the dictionary"
      ]
    },
    {
      "cell_type": "code",
      "metadata": {
        "id": "HMvXdUPqafOm",
        "colab_type": "code",
        "colab": {}
      },
      "source": [
        "dit.clear()"
      ],
      "execution_count": null,
      "outputs": []
    },
    {
      "cell_type": "code",
      "metadata": {
        "id": "2jKcylbWaiCy",
        "colab_type": "code",
        "colab": {
          "base_uri": "https://localhost:8080/",
          "height": 34
        },
        "outputId": "44a0bf5c-8188-4299-dc4e-3bb34764de07"
      },
      "source": [
        "print(dit)"
      ],
      "execution_count": null,
      "outputs": [
        {
          "output_type": "stream",
          "text": [
            "{}\n"
          ],
          "name": "stdout"
        }
      ]
    },
    {
      "cell_type": "markdown",
      "metadata": {
        "id": "klMdvnp8apPz",
        "colab_type": "text"
      },
      "source": [
        "Q3. Sets and it's Default Functions"
      ]
    },
    {
      "cell_type": "code",
      "metadata": {
        "id": "CMx2jBbDauRT",
        "colab_type": "code",
        "colab": {}
      },
      "source": [
        "set={\"Ankit\",45,65.7,(1,2,3,3,4),1,2,3,4,2,5,6}"
      ],
      "execution_count": null,
      "outputs": []
    },
    {
      "cell_type": "code",
      "metadata": {
        "id": "0GJmtI-9cbx0",
        "colab_type": "code",
        "colab": {
          "base_uri": "https://localhost:8080/",
          "height": 54
        },
        "outputId": "7ced2dc5-d8ed-448d-88cc-81387903583a"
      },
      "source": [
        "set"
      ],
      "execution_count": null,
      "outputs": [
        {
          "output_type": "execute_result",
          "data": {
            "text/plain": [
              "{(1, 2, 3, 3, 4), 1, 2, 3, 4, 45, 5, 6, 65.7, 'Ankit'}"
            ]
          },
          "metadata": {
            "tags": []
          },
          "execution_count": 26
        }
      ]
    },
    {
      "cell_type": "markdown",
      "metadata": {
        "id": "mqCEXxMidJ5s",
        "colab_type": "text"
      },
      "source": [
        "1].add()  Adds an element to the set"
      ]
    },
    {
      "cell_type": "code",
      "metadata": {
        "id": "TR0HZBEGdPQL",
        "colab_type": "code",
        "colab": {}
      },
      "source": [
        "set.add(\"Prajapati\")"
      ],
      "execution_count": null,
      "outputs": []
    },
    {
      "cell_type": "code",
      "metadata": {
        "id": "Lk3OBkUodboG",
        "colab_type": "code",
        "colab": {
          "base_uri": "https://localhost:8080/",
          "height": 54
        },
        "outputId": "6eb007ff-6dd9-4cd5-bec8-41352e34bdbd"
      },
      "source": [
        "print(set)"
      ],
      "execution_count": null,
      "outputs": [
        {
          "output_type": "stream",
          "text": [
            "{65.7, 1, 2, 3, 4, 5, 6, 45, 'Prajapati', 'Ankit', (1, 2, 3, 3, 4)}\n"
          ],
          "name": "stdout"
        }
      ]
    },
    {
      "cell_type": "markdown",
      "metadata": {
        "id": "rswSVT4zdjCE",
        "colab_type": "text"
      },
      "source": [
        "2].issubset() returns true if another set contain this set"
      ]
    },
    {
      "cell_type": "code",
      "metadata": {
        "id": "HQ-oSCdUeWlA",
        "colab_type": "code",
        "colab": {}
      },
      "source": [
        "A={1,2,3,4,5,8,9}"
      ],
      "execution_count": null,
      "outputs": []
    },
    {
      "cell_type": "code",
      "metadata": {
        "id": "Em0ck2h0eijQ",
        "colab_type": "code",
        "colab": {}
      },
      "source": [
        "B={0,1,2,3,4,6,7}"
      ],
      "execution_count": null,
      "outputs": []
    },
    {
      "cell_type": "code",
      "metadata": {
        "id": "19y_VnRYe58E",
        "colab_type": "code",
        "colab": {}
      },
      "source": [
        "C={1,2,3,4,5,6,7,8,9,10}"
      ],
      "execution_count": null,
      "outputs": []
    },
    {
      "cell_type": "code",
      "metadata": {
        "id": "KIFhSggDentb",
        "colab_type": "code",
        "colab": {
          "base_uri": "https://localhost:8080/",
          "height": 34
        },
        "outputId": "509f59fb-4a62-4fdb-965f-9605e29d2af8"
      },
      "source": [
        "print(A.issubset(B))"
      ],
      "execution_count": null,
      "outputs": [
        {
          "output_type": "stream",
          "text": [
            "False\n"
          ],
          "name": "stdout"
        }
      ]
    },
    {
      "cell_type": "code",
      "metadata": {
        "id": "q25UYNsmfBZH",
        "colab_type": "code",
        "colab": {
          "base_uri": "https://localhost:8080/",
          "height": 34
        },
        "outputId": "3ad51a70-2598-426e-fcb6-5856cdc8a76a"
      },
      "source": [
        "print(A.issubset(C))"
      ],
      "execution_count": null,
      "outputs": [
        {
          "output_type": "stream",
          "text": [
            "True\n"
          ],
          "name": "stdout"
        }
      ]
    },
    {
      "cell_type": "markdown",
      "metadata": {
        "id": "t_0e_Hs4fIdG",
        "colab_type": "text"
      },
      "source": [
        "3].union() Returns the union of sets in a new set"
      ]
    },
    {
      "cell_type": "code",
      "metadata": {
        "id": "EZo62EEhfluq",
        "colab_type": "code",
        "colab": {}
      },
      "source": [
        "A={\"Ankit\",1803027}"
      ],
      "execution_count": null,
      "outputs": []
    },
    {
      "cell_type": "code",
      "metadata": {
        "id": "ExwLMRNXfuBC",
        "colab_type": "code",
        "colab": {}
      },
      "source": [
        "B={\"Shivam\",1803036}"
      ],
      "execution_count": null,
      "outputs": []
    },
    {
      "cell_type": "code",
      "metadata": {
        "id": "6iHzn9F_f39O",
        "colab_type": "code",
        "colab": {
          "base_uri": "https://localhost:8080/",
          "height": 54
        },
        "outputId": "9c8f267f-b2cc-4757-bb80-e309ee53222f"
      },
      "source": [
        "print(A.union(B))"
      ],
      "execution_count": null,
      "outputs": [
        {
          "output_type": "stream",
          "text": [
            "{'Ankit', 'Shivam', 1803027, 1803036}\n"
          ],
          "name": "stdout"
        }
      ]
    },
    {
      "cell_type": "markdown",
      "metadata": {
        "id": "wLDovBWPgn5A",
        "colab_type": "text"
      },
      "source": [
        "4].difference () Returns the difference of two or more sets as a new set"
      ]
    },
    {
      "cell_type": "code",
      "metadata": {
        "id": "8QyYItTuhM-Q",
        "colab_type": "code",
        "colab": {}
      },
      "source": [
        "J={1,3,5,7}"
      ],
      "execution_count": null,
      "outputs": []
    },
    {
      "cell_type": "code",
      "metadata": {
        "id": "bjIlXuRVhSSC",
        "colab_type": "code",
        "colab": {}
      },
      "source": [
        "K={1,3,2,4,6,8}"
      ],
      "execution_count": null,
      "outputs": []
    },
    {
      "cell_type": "code",
      "metadata": {
        "id": "09YQ53ddhVcG",
        "colab_type": "code",
        "colab": {
          "base_uri": "https://localhost:8080/",
          "height": 34
        },
        "outputId": "ae167dfa-ea82-4b09-c6b0-78c88bd6362b"
      },
      "source": [
        "print(J.difference(K))"
      ],
      "execution_count": null,
      "outputs": [
        {
          "output_type": "stream",
          "text": [
            "{5, 7}\n"
          ],
          "name": "stdout"
        }
      ]
    },
    {
      "cell_type": "markdown",
      "metadata": {
        "id": "K7x9TdEnhqj7",
        "colab_type": "text"
      },
      "source": [
        "5].discard() Removes an element from the set if it is a member."
      ]
    },
    {
      "cell_type": "code",
      "metadata": {
        "id": "Vmxuh_ZIkbHy",
        "colab_type": "code",
        "colab": {}
      },
      "source": [
        "set1={1,4,7,77,88,43,50}"
      ],
      "execution_count": null,
      "outputs": []
    },
    {
      "cell_type": "code",
      "metadata": {
        "id": "J6c92VBbkiGy",
        "colab_type": "code",
        "colab": {}
      },
      "source": [
        "set1.discard(88)"
      ],
      "execution_count": null,
      "outputs": []
    },
    {
      "cell_type": "code",
      "metadata": {
        "id": "hTrfJib7kuQy",
        "colab_type": "code",
        "colab": {
          "base_uri": "https://localhost:8080/",
          "height": 34
        },
        "outputId": "e2972413-d6ca-4606-b5a6-162923461478"
      },
      "source": [
        "print(set1)"
      ],
      "execution_count": null,
      "outputs": [
        {
          "output_type": "stream",
          "text": [
            "{1, 4, 7, 43, 77, 50}\n"
          ],
          "name": "stdout"
        }
      ]
    },
    {
      "cell_type": "markdown",
      "metadata": {
        "id": "DF68JxSmkye8",
        "colab_type": "text"
      },
      "source": [
        "Q4.Tuple and Explore Default Functions"
      ]
    },
    {
      "cell_type": "code",
      "metadata": {
        "id": "6G2CshBSlEqE",
        "colab_type": "code",
        "colab": {}
      },
      "source": [
        "tup=(\"Ankit\",\"@\",3,67,2.7,3)"
      ],
      "execution_count": null,
      "outputs": []
    },
    {
      "cell_type": "code",
      "metadata": {
        "id": "3ak546Z2mMod",
        "colab_type": "code",
        "colab": {
          "base_uri": "https://localhost:8080/",
          "height": 34
        },
        "outputId": "7d1d2041-3d36-4124-cf23-a9684c439a35"
      },
      "source": [
        "tup"
      ],
      "execution_count": null,
      "outputs": [
        {
          "output_type": "execute_result",
          "data": {
            "text/plain": [
              "('Ankit', '@', 3, 67, 2.7, 3)"
            ]
          },
          "metadata": {
            "tags": []
          },
          "execution_count": 56
        }
      ]
    },
    {
      "cell_type": "markdown",
      "metadata": {
        "id": "XwLkQ2U2mO-9",
        "colab_type": "text"
      },
      "source": [
        "1].count() returns the number of times element appears in the tuple"
      ]
    },
    {
      "cell_type": "code",
      "metadata": {
        "id": "ZxnNP2_Im97_",
        "colab_type": "code",
        "colab": {
          "base_uri": "https://localhost:8080/",
          "height": 34
        },
        "outputId": "d08f98d8-a10c-41ed-9ba0-27258d32ff54"
      },
      "source": [
        "tup.count(3)"
      ],
      "execution_count": null,
      "outputs": [
        {
          "output_type": "execute_result",
          "data": {
            "text/plain": [
              "2"
            ]
          },
          "metadata": {
            "tags": []
          },
          "execution_count": 57
        }
      ]
    },
    {
      "cell_type": "markdown",
      "metadata": {
        "id": "95WRR-nTnTAU",
        "colab_type": "text"
      },
      "source": [
        "2].index() returns the index of the specified element in the tuple."
      ]
    },
    {
      "cell_type": "code",
      "metadata": {
        "id": "1Daz45Skndwh",
        "colab_type": "code",
        "colab": {
          "base_uri": "https://localhost:8080/",
          "height": 34
        },
        "outputId": "c2cef9e1-3931-4320-f4ac-d72b35a28cf5"
      },
      "source": [
        "tup.index(\"@\")"
      ],
      "execution_count": null,
      "outputs": [
        {
          "output_type": "execute_result",
          "data": {
            "text/plain": [
              "1"
            ]
          },
          "metadata": {
            "tags": []
          },
          "execution_count": 58
        }
      ]
    },
    {
      "cell_type": "markdown",
      "metadata": {
        "id": "xJxiKaA9nkyC",
        "colab_type": "text"
      },
      "source": [
        "3].len() returns the number of elements in the tupl"
      ]
    },
    {
      "cell_type": "code",
      "metadata": {
        "id": "-Zq7BvEFoTrN",
        "colab_type": "code",
        "colab": {
          "base_uri": "https://localhost:8080/",
          "height": 34
        },
        "outputId": "045b0bdb-e1ef-495f-f162-4b076844aa83"
      },
      "source": [
        "len(tup)"
      ],
      "execution_count": null,
      "outputs": [
        {
          "output_type": "execute_result",
          "data": {
            "text/plain": [
              "6"
            ]
          },
          "metadata": {
            "tags": []
          },
          "execution_count": 59
        }
      ]
    },
    {
      "cell_type": "markdown",
      "metadata": {
        "id": "WuV_2-xyoa_J",
        "colab_type": "text"
      },
      "source": [
        "4].max() returns the elements from the tuple with maximum value"
      ]
    },
    {
      "cell_type": "code",
      "metadata": {
        "id": "gOMEmlFCpHB0",
        "colab_type": "code",
        "colab": {}
      },
      "source": [
        "tup1=(600,70,59,601,230,700)"
      ],
      "execution_count": null,
      "outputs": []
    },
    {
      "cell_type": "code",
      "metadata": {
        "id": "pn1mnh-1pRE2",
        "colab_type": "code",
        "colab": {
          "base_uri": "https://localhost:8080/",
          "height": 34
        },
        "outputId": "99919924-d48f-49ec-feed-0a4765494ca4"
      },
      "source": [
        "max(tup1)"
      ],
      "execution_count": null,
      "outputs": [
        {
          "output_type": "execute_result",
          "data": {
            "text/plain": [
              "700"
            ]
          },
          "metadata": {
            "tags": []
          },
          "execution_count": 61
        }
      ]
    },
    {
      "cell_type": "markdown",
      "metadata": {
        "id": "ZCKzApXupYV0",
        "colab_type": "text"
      },
      "source": [
        "5].min() returns the elements from the tuple with minimum value."
      ]
    },
    {
      "cell_type": "code",
      "metadata": {
        "id": "yXOwIXTgpg7H",
        "colab_type": "code",
        "colab": {}
      },
      "source": [
        "tup2=(3,3.5,6.09,6,91,6.92,0.001,0.002)"
      ],
      "execution_count": null,
      "outputs": []
    },
    {
      "cell_type": "code",
      "metadata": {
        "id": "Ss3WOgz0pxMD",
        "colab_type": "code",
        "colab": {
          "base_uri": "https://localhost:8080/",
          "height": 34
        },
        "outputId": "a8ad655b-d39c-42c5-8ac7-88c86c206c26"
      },
      "source": [
        "min(tup2)"
      ],
      "execution_count": null,
      "outputs": [
        {
          "output_type": "execute_result",
          "data": {
            "text/plain": [
              "0.001"
            ]
          },
          "metadata": {
            "tags": []
          },
          "execution_count": 63
        }
      ]
    },
    {
      "cell_type": "markdown",
      "metadata": {
        "id": "IwlYoJ-_p2z9",
        "colab_type": "text"
      },
      "source": [
        " Q5.Strings and explore default functions"
      ]
    },
    {
      "cell_type": "markdown",
      "metadata": {
        "id": "WnShuoULu_0F",
        "colab_type": "text"
      },
      "source": [
        "1].lower() returns a copy of the string in which all case-based characters have been lowercased"
      ]
    },
    {
      "cell_type": "code",
      "metadata": {
        "id": "fFaC8kbBqQ-P",
        "colab_type": "code",
        "colab": {}
      },
      "source": [
        "str=\"WHAT IN A NAME....\""
      ],
      "execution_count": null,
      "outputs": []
    },
    {
      "cell_type": "code",
      "metadata": {
        "id": "t_Pp_pv_u9x9",
        "colab_type": "code",
        "colab": {
          "base_uri": "https://localhost:8080/",
          "height": 35
        },
        "outputId": "5dee7952-e25e-4aed-e295-51efcb3d2393"
      },
      "source": [
        "str.lower()"
      ],
      "execution_count": null,
      "outputs": [
        {
          "output_type": "execute_result",
          "data": {
            "application/vnd.google.colaboratory.intrinsic+json": {
              "type": "string"
            },
            "text/plain": [
              "'what in a name....'"
            ]
          },
          "metadata": {
            "tags": []
          },
          "execution_count": 65
        }
      ]
    },
    {
      "cell_type": "markdown",
      "metadata": {
        "id": "utcDLTCVvVs6",
        "colab_type": "text"
      },
      "source": [
        "2].title() returns a copy of the string in which firstcharacters of all the words are capitalized"
      ]
    },
    {
      "cell_type": "code",
      "metadata": {
        "id": "tJEYqNnWvpUl",
        "colab_type": "code",
        "colab": {}
      },
      "source": [
        "str1=\"i live in mumbai\""
      ],
      "execution_count": null,
      "outputs": []
    },
    {
      "cell_type": "code",
      "metadata": {
        "id": "PWJa1CV7vxT3",
        "colab_type": "code",
        "colab": {
          "base_uri": "https://localhost:8080/",
          "height": 35
        },
        "outputId": "ad7f8b74-e094-401e-a6f4-5243a78d0563"
      },
      "source": [
        "str1.title()"
      ],
      "execution_count": null,
      "outputs": [
        {
          "output_type": "execute_result",
          "data": {
            "application/vnd.google.colaboratory.intrinsic+json": {
              "type": "string"
            },
            "text/plain": [
              "'I Live In Mumbai'"
            ]
          },
          "metadata": {
            "tags": []
          },
          "execution_count": 67
        }
      ]
    },
    {
      "cell_type": "markdown",
      "metadata": {
        "id": "aTBZLDWLv1EF",
        "colab_type": "text"
      },
      "source": [
        "3].len() returns the length of the string."
      ]
    },
    {
      "cell_type": "code",
      "metadata": {
        "id": "bCX9qZoWwXP3",
        "colab_type": "code",
        "colab": {}
      },
      "source": [
        "str2=\"Honesty is the best policy\""
      ],
      "execution_count": null,
      "outputs": []
    },
    {
      "cell_type": "code",
      "metadata": {
        "id": "fF2_0IMIwjx8",
        "colab_type": "code",
        "colab": {
          "base_uri": "https://localhost:8080/",
          "height": 34
        },
        "outputId": "e1e320d4-0846-43fe-9d12-0079559dca3b"
      },
      "source": [
        "len(str2)"
      ],
      "execution_count": null,
      "outputs": [
        {
          "output_type": "execute_result",
          "data": {
            "text/plain": [
              "26"
            ]
          },
          "metadata": {
            "tags": []
          },
          "execution_count": 70
        }
      ]
    },
    {
      "cell_type": "markdown",
      "metadata": {
        "id": "731vbXWCwtS7",
        "colab_type": "text"
      },
      "source": [
        "4].join() returns a string in which the string elements of sequence have been joined by str separator."
      ]
    },
    {
      "cell_type": "code",
      "metadata": {
        "id": "dhDyECNUw_s4",
        "colab_type": "code",
        "colab": {}
      },
      "source": [
        "s=\"|\""
      ],
      "execution_count": null,
      "outputs": []
    },
    {
      "cell_type": "code",
      "metadata": {
        "id": "EgmW12pxxHur",
        "colab_type": "code",
        "colab": {}
      },
      "source": [
        "S2=(\"2\",\"8\",\"1\")"
      ],
      "execution_count": null,
      "outputs": []
    },
    {
      "cell_type": "code",
      "metadata": {
        "id": "2db4wOfExW8X",
        "colab_type": "code",
        "colab": {
          "base_uri": "https://localhost:8080/",
          "height": 35
        },
        "outputId": "fdc627c0-c214-4a04-dcd2-de53c34c201e"
      },
      "source": [
        "s.join(S2)"
      ],
      "execution_count": null,
      "outputs": [
        {
          "output_type": "execute_result",
          "data": {
            "application/vnd.google.colaboratory.intrinsic+json": {
              "type": "string"
            },
            "text/plain": [
              "'2|8|1'"
            ]
          },
          "metadata": {
            "tags": []
          },
          "execution_count": 76
        }
      ]
    },
    {
      "cell_type": "markdown",
      "metadata": {
        "id": "KKeYC0sZxuDB",
        "colab_type": "text"
      },
      "source": [
        "5].isalnum() checks whether the string consists of alphanumeric characters."
      ]
    },
    {
      "cell_type": "code",
      "metadata": {
        "id": "IgulT45DyUQu",
        "colab_type": "code",
        "colab": {}
      },
      "source": [
        "S5=\"Ankit1002\";"
      ],
      "execution_count": null,
      "outputs": []
    },
    {
      "cell_type": "code",
      "metadata": {
        "id": "wT4kzUI_ydcY",
        "colab_type": "code",
        "colab": {
          "base_uri": "https://localhost:8080/",
          "height": 34
        },
        "outputId": "315e3a1b-fad3-467d-ac23-9855dc181715"
      },
      "source": [
        "S5.isalnum()"
      ],
      "execution_count": null,
      "outputs": [
        {
          "output_type": "execute_result",
          "data": {
            "text/plain": [
              "True"
            ]
          },
          "metadata": {
            "tags": []
          },
          "execution_count": 90
        }
      ]
    },
    {
      "cell_type": "markdown",
      "metadata": {
        "id": "OVztmWB_zQSf",
        "colab_type": "text"
      },
      "source": [
        "End of Assignment 1(Day2)"
      ]
    }
  ]
}