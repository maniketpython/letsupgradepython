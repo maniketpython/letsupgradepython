{
  "nbformat": 4,
  "nbformat_minor": 0,
  "metadata": {
    "colab": {
      "name": "Aniket(Day9).ipynb",
      "provenance": [],
      "collapsed_sections": [],
      "include_colab_link": true
    },
    "kernelspec": {
      "name": "python3",
      "display_name": "Python 3"
    }
  },
  "cells": [
    {
      "cell_type": "markdown",
      "metadata": {
        "id": "view-in-github",
        "colab_type": "text"
      },
      "source": [
        "<a href=\"https://colab.research.google.com/github/maniketpython/letsupgradepython/blob/master/Aniket(Day9).ipynb\" target=\"_parent\"><img src=\"https://colab.research.google.com/assets/colab-badge.svg\" alt=\"Open In Colab\"/></a>"
      ]
    },
    {
      "cell_type": "markdown",
      "metadata": {
        "id": "GLNvdXT0jM1G",
        "colab_type": "text"
      },
      "source": [
        " **Day 9**"
      ]
    },
    {
      "cell_type": "markdown",
      "metadata": {
        "id": "9LvZlrffjQkn",
        "colab_type": "text"
      },
      "source": [
        " **Question 1** \n",
        "\n",
        "**Write a python Function for finding is a given number prime or not and do Unit Testing on it using\n",
        "PyLint and Unittest Library.**"
      ]
    },
    {
      "cell_type": "code",
      "metadata": {
        "id": "sJS6iBEhOIGg",
        "colab_type": "code",
        "colab": {
          "base_uri": "https://localhost:8080/",
          "height": 413
        },
        "outputId": "75cc4994-5315-4e3c-cbb6-98b55ed1b1e9"
      },
      "source": [
        " ! pip install pylint"
      ],
      "execution_count": null,
      "outputs": [
        {
          "output_type": "stream",
          "text": [
            "Collecting pylint\n",
            "\u001b[?25l  Downloading https://files.pythonhosted.org/packages/fb/13/519c1264a134beab2be4bac8dd3e64948980a5ca7833b31cf0255b21f20a/pylint-2.6.0-py3-none-any.whl (325kB)\n",
            "\r\u001b[K     |█                               | 10kB 21.0MB/s eta 0:00:01\r\u001b[K     |██                              | 20kB 6.1MB/s eta 0:00:01\r\u001b[K     |███                             | 30kB 6.4MB/s eta 0:00:01\r\u001b[K     |████                            | 40kB 5.3MB/s eta 0:00:01\r\u001b[K     |█████                           | 51kB 4.5MB/s eta 0:00:01\r\u001b[K     |██████                          | 61kB 4.3MB/s eta 0:00:01\r\u001b[K     |███████                         | 71kB 4.4MB/s eta 0:00:01\r\u001b[K     |████████                        | 81kB 4.5MB/s eta 0:00:01\r\u001b[K     |█████████                       | 92kB 4.4MB/s eta 0:00:01\r\u001b[K     |██████████                      | 102kB 4.5MB/s eta 0:00:01\r\u001b[K     |███████████                     | 112kB 4.5MB/s eta 0:00:01\r\u001b[K     |████████████                    | 122kB 4.5MB/s eta 0:00:01\r\u001b[K     |█████████████                   | 133kB 4.5MB/s eta 0:00:01\r\u001b[K     |██████████████                  | 143kB 4.5MB/s eta 0:00:01\r\u001b[K     |███████████████                 | 153kB 4.5MB/s eta 0:00:01\r\u001b[K     |████████████████                | 163kB 4.5MB/s eta 0:00:01\r\u001b[K     |█████████████████               | 174kB 4.5MB/s eta 0:00:01\r\u001b[K     |██████████████████              | 184kB 4.5MB/s eta 0:00:01\r\u001b[K     |███████████████████▏            | 194kB 4.5MB/s eta 0:00:01\r\u001b[K     |████████████████████▏           | 204kB 4.5MB/s eta 0:00:01\r\u001b[K     |█████████████████████▏          | 215kB 4.5MB/s eta 0:00:01\r\u001b[K     |██████████████████████▏         | 225kB 4.5MB/s eta 0:00:01\r\u001b[K     |███████████████████████▏        | 235kB 4.5MB/s eta 0:00:01\r\u001b[K     |████████████████████████▏       | 245kB 4.5MB/s eta 0:00:01\r\u001b[K     |█████████████████████████▏      | 256kB 4.5MB/s eta 0:00:01\r\u001b[K     |██████████████████████████▏     | 266kB 4.5MB/s eta 0:00:01\r\u001b[K     |███████████████████████████▏    | 276kB 4.5MB/s eta 0:00:01\r\u001b[K     |████████████████████████████▏   | 286kB 4.5MB/s eta 0:00:01\r\u001b[K     |█████████████████████████████▏  | 296kB 4.5MB/s eta 0:00:01\r\u001b[K     |██████████████████████████████▏ | 307kB 4.5MB/s eta 0:00:01\r\u001b[K     |███████████████████████████████▏| 317kB 4.5MB/s eta 0:00:01\r\u001b[K     |████████████████████████████████| 327kB 4.5MB/s \n",
            "\u001b[?25hRequirement already satisfied: toml>=0.7.1 in /usr/local/lib/python3.6/dist-packages (from pylint) (0.10.1)\n",
            "Collecting mccabe<0.7,>=0.6\n",
            "  Downloading https://files.pythonhosted.org/packages/87/89/479dc97e18549e21354893e4ee4ef36db1d237534982482c3681ee6e7b57/mccabe-0.6.1-py2.py3-none-any.whl\n",
            "Collecting astroid<=2.5,>=2.4.0\n",
            "\u001b[?25l  Downloading https://files.pythonhosted.org/packages/24/a8/5133f51967fb21e46ee50831c3f5dda49e976b7f915408d670b1603d41d6/astroid-2.4.2-py3-none-any.whl (213kB)\n",
            "\u001b[K     |████████████████████████████████| 215kB 10.6MB/s \n",
            "\u001b[?25hCollecting isort<6,>=4.2.5\n",
            "\u001b[?25l  Downloading https://files.pythonhosted.org/packages/d1/25/7ed95ccb07d3ce52598f5a57d002da6a18074ea8749991b10936cc20e539/isort-5.5.2-py3-none-any.whl (95kB)\n",
            "\u001b[K     |████████████████████████████████| 102kB 5.5MB/s \n",
            "\u001b[?25hRequirement already satisfied: six~=1.12 in /usr/local/lib/python3.6/dist-packages (from astroid<=2.5,>=2.4.0->pylint) (1.15.0)\n",
            "Requirement already satisfied: wrapt~=1.11 in /usr/local/lib/python3.6/dist-packages (from astroid<=2.5,>=2.4.0->pylint) (1.12.1)\n",
            "Collecting typed-ast<1.5,>=1.4.0; implementation_name == \"cpython\" and python_version < \"3.8\"\n",
            "\u001b[?25l  Downloading https://files.pythonhosted.org/packages/90/ed/5459080d95eb87a02fe860d447197be63b6e2b5e9ff73c2b0a85622994f4/typed_ast-1.4.1-cp36-cp36m-manylinux1_x86_64.whl (737kB)\n",
            "\u001b[K     |████████████████████████████████| 747kB 13.5MB/s \n",
            "\u001b[?25hCollecting lazy-object-proxy==1.4.*\n",
            "\u001b[?25l  Downloading https://files.pythonhosted.org/packages/0b/dd/b1e3407e9e6913cf178e506cd0dee818e58694d9a5cd1984e3f6a8b9a10f/lazy_object_proxy-1.4.3-cp36-cp36m-manylinux1_x86_64.whl (55kB)\n",
            "\u001b[K     |████████████████████████████████| 61kB 5.1MB/s \n",
            "\u001b[?25hInstalling collected packages: mccabe, typed-ast, lazy-object-proxy, astroid, isort, pylint\n",
            "Successfully installed astroid-2.4.2 isort-5.5.2 lazy-object-proxy-1.4.3 mccabe-0.6.1 pylint-2.6.0 typed-ast-1.4.1\n"
          ],
          "name": "stdout"
        }
      ]
    },
    {
      "cell_type": "code",
      "metadata": {
        "id": "tEsIcxpObNZL",
        "colab_type": "code",
        "colab": {
          "base_uri": "https://localhost:8080/",
          "height": 34
        },
        "outputId": "03f25840-0c6a-4d1f-8c6b-fa76020771ad"
      },
      "source": [
        "# unit testing using pylint\n",
        "%%writefile prime.py\n",
        " \n",
        "'''\n",
        "Creating a python file for finding whethere the given number is prime number or not.\n",
        "'''\n",
        " \n",
        "def is_prime(given_no):\n",
        "    '''\n",
        "    function to check for prime number.\n",
        "    '''\n",
        "    if given_no >= 1:\n",
        "        for i in range(2, given_no):\n",
        "            if (given_no % i) == 0:\n",
        "                finalresult=\"Not Prime\"\n",
        "            else:\n",
        "                finalresult=\"Prime\"\n",
        "    else:\n",
        "        finalresult=\"Not Prime\"\n",
        "    return finalresult"
      ],
      "execution_count": null,
      "outputs": [
        {
          "output_type": "stream",
          "text": [
            "Overwriting prime.py\n"
          ],
          "name": "stdout"
        }
      ]
    },
    {
      "cell_type": "code",
      "metadata": {
        "id": "qAGeD08tcT1n",
        "colab_type": "code",
        "colab": {
          "base_uri": "https://localhost:8080/",
          "height": 85
        },
        "outputId": "7e0bc804-2979-4858-facd-57718b732ea3"
      },
      "source": [
        "! pylint \"prime.py\""
      ],
      "execution_count": null,
      "outputs": [
        {
          "output_type": "stream",
          "text": [
            "\n",
            "-------------------------------------------------------------------\n",
            "Your code has been rated at 10.00/10 (previous run: 8.75/10, +1.25)\n",
            "\n"
          ],
          "name": "stdout"
        }
      ]
    },
    {
      "cell_type": "code",
      "metadata": {
        "id": "69RFNuIpcazf",
        "colab_type": "code",
        "colab": {
          "base_uri": "https://localhost:8080/",
          "height": 34
        },
        "outputId": "94a5ffa5-3683-40a4-934a-5b15ec8f7e76"
      },
      "source": [
        "#unit testing using unittest library\n",
        "%%writefile primeUnitTesting.py\n",
        "\n",
        "import unittest\n",
        "import prime\n",
        "\n",
        "class testPrime(unittest.TestCase):\n",
        "    def testSinglePrime(self):\n",
        "        a = 3\n",
        "        result = prime.is_prime(a)\n",
        "        self.assertEquals(result, \"Prime\")\n",
        "        \n",
        "    def testingDoublePrime(self):\n",
        "        b = 11 \n",
        "        result = prime.is_prime(b)\n",
        "        self.assertEquals(result, \"Prime\")\n",
        "\n",
        "if __name__ == \"__main__\":\n",
        "    unittest.main()"
      ],
      "execution_count": null,
      "outputs": [
        {
          "output_type": "stream",
          "text": [
            "Writing primeUnitTesting.py\n"
          ],
          "name": "stdout"
        }
      ]
    },
    {
      "cell_type": "code",
      "metadata": {
        "id": "MVGGPZsbchTG",
        "colab_type": "code",
        "colab": {
          "base_uri": "https://localhost:8080/",
          "height": 102
        },
        "outputId": "1a209aa7-2b14-4ea0-8794-3a0a0b39faee"
      },
      "source": [
        "! python \"primeUnitTesting.py\""
      ],
      "execution_count": null,
      "outputs": [
        {
          "output_type": "stream",
          "text": [
            "..\n",
            "----------------------------------------------------------------------\n",
            "Ran 2 tests in 0.000s\n",
            "\n",
            "OK\n"
          ],
          "name": "stdout"
        }
      ]
    },
    {
      "cell_type": "markdown",
      "metadata": {
        "id": "WRTFfIn9c5s0",
        "colab_type": "text"
      },
      "source": [
        "**Question 2**\n",
        " \n",
        "**Make a small generator program for returning armstrong numbers in between 1-1000 in a\n",
        "generator object.**"
      ]
    },
    {
      "cell_type": "code",
      "metadata": {
        "id": "Vdv3jPzXcj8h",
        "colab_type": "code",
        "colab": {
          "base_uri": "https://localhost:8080/",
          "height": 34
        },
        "outputId": "c74e5a47-4e52-4b24-9402-f23e680c09f2"
      },
      "source": [
        "lst = list(range(1,1000+1))\n",
        "def armstrong(lst):    \n",
        "    for num in lst:\n",
        "        order=len(str(num))\n",
        "        s = 0\n",
        "        temp = num\n",
        "        while temp > 0:\n",
        "            d = temp % 10\n",
        "            s += d ** order\n",
        "            temp //= 10\n",
        "        if num == s:\n",
        "            yield num\n",
        "print(list(armstrong(lst)))"
      ],
      "execution_count": null,
      "outputs": [
        {
          "output_type": "stream",
          "text": [
            "[1, 2, 3, 4, 5, 6, 7, 8, 9, 153, 370, 371, 407]\n"
          ],
          "name": "stdout"
        }
      ]
    }
  ]
}