{
  "nbformat": 4,
  "nbformat_minor": 0,
  "metadata": {
    "colab": {
      "name": "Aniket(Day8)",
      "provenance": [],
      "collapsed_sections": [],
      "include_colab_link": true
    },
    "kernelspec": {
      "name": "python3",
      "display_name": "Python 3"
    }
  },
  "cells": [
    {
      "cell_type": "markdown",
      "metadata": {
        "id": "view-in-github",
        "colab_type": "text"
      },
      "source": [
        "<a href=\"https://colab.research.google.com/github/maniketpython/letsupgradepython/blob/master/Aniket(Day8).ipynb\" target=\"_parent\"><img src=\"https://colab.research.google.com/assets/colab-badge.svg\" alt=\"Open In Colab\"/></a>"
      ]
    },
    {
      "cell_type": "markdown",
      "metadata": {
        "id": "hjhElXu1woWd",
        "colab_type": "text"
      },
      "source": [
        "*DAY 8*"
      ]
    },
    {
      "cell_type": "markdown",
      "metadata": {
        "id": "393DV056wyKp",
        "colab_type": "text"
      },
      "source": [
        "*Question 1*\n",
        " \n",
        "Write a decorator function for your taking input for you any kind of function you want to build"
      ]
    },
    {
      "cell_type": "code",
      "metadata": {
        "id": "Tc3tsMEmxhjJ",
        "colab_type": "code",
        "colab": {}
      },
      "source": [
        " #Decorators\n",
        "def getInput(calculate_arg_fun):\n",
        "    \n",
        "    def wrap_function():\n",
        "    \n",
        "        a = int(input(\"\\nEnter First Number - \"))\n",
        "        \n",
        "        b = int(input(\"\\nEnter Second Number - \"))\n",
        "        \n",
        "        calculate_arg_fun(a,b)   \n",
        "    \n",
        "    return wrap_function"
      ],
      "execution_count": null,
      "outputs": []
    },
    {
      "cell_type": "code",
      "metadata": {
        "id": "gqICubGTxnkd",
        "colab_type": "code",
        "colab": {}
      },
      "source": [
        " # calling decorator for input\n",
        " \n",
        "@getInput\n",
        " \n",
        "def OddFinder(start, last):\n",
        "    \n",
        "    print(\"\\nThe Odd numbers in the range\",start,\"to\",last,\"is :\\n\")\n",
        " \n",
        "    for n in range(start, last + 1): \n",
        "      \n",
        "        if n % 2 != 0: \n",
        "            \n",
        "            print(n, end = \" \")"
      ],
      "execution_count": null,
      "outputs": []
    },
    {
      "cell_type": "code",
      "metadata": {
        "id": "FF6_Q2wqx6fS",
        "colab_type": "code",
        "colab": {
          "base_uri": "https://localhost:8080/",
          "height": 174
        },
        "outputId": "4f361eb4-246f-47fd-f0d0-72bc124153c6"
      },
      "source": [
        "OddFinder()"
      ],
      "execution_count": null,
      "outputs": [
        {
          "output_type": "stream",
          "text": [
            "\n",
            "Enter First Number - 100\n",
            "\n",
            "Enter Second Number - 300\n",
            "\n",
            "The Odd numbers in the range 100 to 300 is :\n",
            "\n",
            "101 103 105 107 109 111 113 115 117 119 121 123 125 127 129 131 133 135 137 139 141 143 145 147 149 151 153 155 157 159 161 163 165 167 169 171 173 175 177 179 181 183 185 187 189 191 193 195 197 199 201 203 205 207 209 211 213 215 217 219 221 223 225 227 229 231 233 235 237 239 241 243 245 247 249 251 253 255 257 259 261 263 265 267 269 271 273 275 277 279 281 283 285 287 289 291 293 295 297 299 "
          ],
          "name": "stdout"
        }
      ]
    },
    {
      "cell_type": "markdown",
      "metadata": {
        "id": "iDXCEXCAyA6d",
        "colab_type": "text"
      },
      "source": [
        " *Question 2*\n",
        " \n",
        "For this challenge you need to develop a Python program to open a file in read only mode and try writing something to it and handle the subsequent errors using Exception Handling."
      ]
    },
    {
      "cell_type": "code",
      "metadata": {
        "id": "opDcSYcfyHMJ",
        "colab_type": "code",
        "colab": {
          "base_uri": "https://localhost:8080/",
          "height": 34
        },
        "outputId": "5c351181-9eae-42ba-e09c-57099c9c641f"
      },
      "source": [
        "%%writefile Ankitpythonday8.txt\n",
        "Hey, My name is Ankit"
      ],
      "execution_count": null,
      "outputs": [
        {
          "output_type": "stream",
          "text": [
            "Writing Ankitpythonday8.txt\n"
          ],
          "name": "stdout"
        }
      ]
    },
    {
      "cell_type": "code",
      "metadata": {
        "id": "tIzs9isHy9bs",
        "colab_type": "code",
        "colab": {
          "base_uri": "https://localhost:8080/",
          "height": 51
        },
        "outputId": "9508a543-bdd1-4a07-c2a6-e1a968f08a64"
      },
      "source": [
        " \n",
        "# Opening a file in read only mode and using exception handling\n",
        " \n",
        "try:    \n",
        "  file= open(\"Ankitpythonday8.txt\",\"r\")\n",
        "  file.write(\"\\nI am learning python with letsupgrade\")\n",
        "  print(fileData)\n",
        "  file.close()\n",
        "except Exception as e:\n",
        "  print(\"This file is\",e)\n",
        "finally:\n",
        "  print(\"Try anything else\")"
      ],
      "execution_count": null,
      "outputs": [
        {
          "output_type": "stream",
          "text": [
            "This file is not writable\n",
            "Try anything else\n"
          ],
          "name": "stdout"
        }
      ]
    }
  ]
}