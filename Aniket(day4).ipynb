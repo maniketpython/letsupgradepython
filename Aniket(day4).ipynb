{
  "nbformat": 4,
  "nbformat_minor": 0,
  "metadata": {
    "colab": {
      "name": "Aniket(day4).ipynb",
      "provenance": [],
      "authorship_tag": "ABX9TyOXbq8X5kBALfR6eWDXyj/e",
      "include_colab_link": true
    },
    "kernelspec": {
      "name": "python3",
      "display_name": "Python 3"
    }
  },
  "cells": [
    {
      "cell_type": "markdown",
      "metadata": {
        "id": "view-in-github",
        "colab_type": "text"
      },
      "source": [
        "<a href=\"https://colab.research.google.com/github/maniketpython/letsupgradepython/blob/master/Aniket(day4).ipynb\" target=\"_parent\"><img src=\"https://colab.research.google.com/assets/colab-badge.svg\" alt=\"Open In Colab\"/></a>"
      ]
    },
    {
      "cell_type": "code",
      "metadata": {
        "id": "iRz5MNS_l6s2",
        "colab_type": "code",
        "colab": {
          "base_uri": "https://localhost:8080/",
          "height": 34
        },
        "outputId": "50281988-fb8e-4e15-92d6-f6d1a8a575f4"
      },
      "source": [
        " for num in range(1042000,702648265):\n",
        "    order=len(str(num))\n",
        "    temp=num\n",
        "    sum=0\n",
        "    while temp > 0:\n",
        "        digit=temp%10\n",
        "        sum=sum+digit**order\n",
        "        temp=temp//10\n",
        " \n",
        "        break\n",
        "    if sum==num:\n",
        " \n",
        "              print(num)"
      ],
      "execution_count": null,
      "outputs": [
        {
          "output_type": "stream",
          "text": [
            "4782969\n"
          ],
          "name": "stdout"
        }
      ]
    }
  ]
}