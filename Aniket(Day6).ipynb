{
  "nbformat": 4,
  "nbformat_minor": 0,
  "metadata": {
    "colab": {
      "name": "Aniket(Day6)",
      "provenance": [],
      "collapsed_sections": [],
      "include_colab_link": true
    },
    "kernelspec": {
      "name": "python3",
      "display_name": "Python 3"
    }
  },
  "cells": [
    {
      "cell_type": "markdown",
      "metadata": {
        "id": "view-in-github",
        "colab_type": "text"
      },
      "source": [
        "<a href=\"https://colab.research.google.com/github/maniketpython/letsupgradepython/blob/master/Aniket(Day6).ipynb\" target=\"_parent\"><img src=\"https://colab.research.google.com/assets/colab-badge.svg\" alt=\"Open In Colab\"/></a>"
      ]
    },
    {
      "cell_type": "markdown",
      "metadata": {
        "id": "ywZxo7-Jam6Q",
        "colab_type": "text"
      },
      "source": [
        " DAY 6"
      ]
    },
    {
      "cell_type": "markdown",
      "metadata": {
        "id": "JPQpf42paots",
        "colab_type": "text"
      },
      "source": [
        "Question 1\n",
        " \n",
        "For this challenge.create a bank account class that has two attributes\n",
        " \n",
        "*owner Name\n",
        " \n",
        "*Balance\n",
        " \n",
        "And two methods\n",
        " \n",
        "deposit\n",
        " \n",
        "*withdraw\n",
        " \n",
        "As an added requirement witharawals may not exceed the available balance. Instantiate your class,make several deposits and withdrawals and test to make sure the account cant be overdrawn."
      ]
    },
    {
      "cell_type": "code",
      "metadata": {
        "id": "5XQ0l-AIoo2U",
        "colab_type": "code",
        "colab": {
          "base_uri": "https://localhost:8080/",
          "height": 379
        },
        "outputId": "3693af5b-af7e-4790-f8b3-23e5560b5b4f"
      },
      "source": [
        "class BankAccount: \n",
        " \n",
        "    def __init__(self): \n",
        " \n",
        "        self.ownerName=\"ANKIT PRAJAPATI\"\n",
        "        \n",
        "        self.Balance=0\n",
        "        \n",
        "    def deposit(self): \n",
        "        \n",
        "        Amount=float(input(\"\\nEnter amount to be Deposited : \")) \n",
        "        \n",
        "        self.Balance += Amount \n",
        "        \n",
        "        print(\"\\nAmount Deposited is:\",Amount) \n",
        "  \n",
        "    def withdraw(self): \n",
        "        \n",
        "        Amount = float(input(\"\\nEnter amount to be Withdrawn : \")) \n",
        "        \n",
        "        if self.Balance >= Amount: \n",
        "        \n",
        "            self.Balance -= Amount \n",
        "            \n",
        "            print(\"\\nYou have Withdrew :\", Amount) \n",
        "        \n",
        "        else: \n",
        "        \n",
        "            print(\"\\nInsufficient balance in the account, Amount can't be withdrawn...\") \n",
        "            BA.withdraw()\n",
        " \n",
        "print(\"\\n---ABI BANK---\")\n",
        "    \n",
        "BA = BankAccount()\n",
        " \n",
        "print(\"\\nAccount Holder Name is :\",BA.ownerName)\n",
        "    \n",
        "print(\"\\nInitial Account Balance is :\",BA.Balance)\n",
        "   \n",
        "BA.deposit();\n",
        "    \n",
        "BA.withdraw();\n",
        "    \n",
        "print(\"\\nNet Avaliable balance is : \",BA.Balance)"
      ],
      "execution_count": null,
      "outputs": [
        {
          "output_type": "stream",
          "text": [
            "\n",
            "---ABI BANK---\n",
            "\n",
            "Account Holder Name is : ANKIT PRAJAPATI\n",
            "\n",
            "Initial Account Balance is : 0\n",
            "\n",
            "Enter amount to be Deposited : 10000\n",
            "\n",
            "Amount Deposited is: 10000.0\n",
            "\n",
            "Enter amount to be Withdrawn : 11000\n",
            "\n",
            "Insufficient balance in the account, Amount can't be withdrawn...\n",
            "\n",
            "Enter amount to be Withdrawn : 5000\n",
            "\n",
            "You have Withdrew : 5000.0\n",
            "\n",
            "Net Avaliable balance is :  5000.0\n"
          ],
          "name": "stdout"
        }
      ]
    },
    {
      "cell_type": "markdown",
      "metadata": {
        "id": "ZwF7BP-1cD4D",
        "colab_type": "text"
      },
      "source": [
        "Question 2\n",
        " \n",
        "For this challenge create a cone class that has two attributes:\n",
        " \n",
        "R=Radius\n",
        " \n",
        "*h=Height\n",
        "And two methods:\n",
        " \n",
        "\"Volume = π * r2 = (h/3)\n",
        " \n",
        "\"Surface area ; base : π*r2, side: π*r*√(r2+h2)\n",
        " \n",
        "Make only one class with functions.as in where required import Math."
      ]
    },
    {
      "cell_type": "code",
      "metadata": {
        "id": "EpLv8Hmpd8K7",
        "colab_type": "code",
        "colab": {
          "base_uri": "https://localhost:8080/",
          "height": 174
        },
        "outputId": "c9ce7755-14d0-4f34-ca6c-56be0fa86d1c"
      },
      "source": [
        " import math\n",
        " \n",
        "pi = math.pi\n",
        " \n",
        "class cone:\n",
        "    \n",
        "    def __init__(self,r,h): \n",
        " \n",
        "        self.r=r\n",
        "        \n",
        "        self.h=h\n",
        "        \n",
        "    def volume(self):\n",
        "        \n",
        "        result = (1 / 3) * pi * self.r * self.r * self.h\n",
        "        \n",
        "        print(\"\\nVolume Of Cone is :\",result)\n",
        "        \n",
        "    def surfacearea(self):\n",
        "        \n",
        "        result = pi * self.r * self.h + pi * self.r * self.r\n",
        "         \n",
        "        print(\"\\nSurface Area Of Cone is :\",result)\n",
        "radius = float(input(\"\\nEnter the radius of cone : \"))\n",
        " \n",
        "height = float(input(\"\\nEnter the height of cone : \"))\n",
        " \n",
        "c = cone( radius, height)\n",
        " \n",
        "c.volume()\n",
        " \n",
        "c.surfacearea()"
      ],
      "execution_count": null,
      "outputs": [
        {
          "output_type": "stream",
          "text": [
            "\n",
            "Enter the radius of cone : 60\n",
            "\n",
            "Enter the height of cone : 68\n",
            "\n",
            "Volume Of Cone is : 256353.96053292707\n",
            "\n",
            "Surface Area Of Cone is : 24127.43157956961\n"
          ],
          "name": "stdout"
        }
      ]
    }
  ]
}